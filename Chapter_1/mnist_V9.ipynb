{
 "cells": [
  {
   "cell_type": "code",
   "execution_count": null,
   "metadata": {
    "collapsed": false
   },
   "outputs": [],
   "source": ["import tensorflow as tf\nimport numpy as np\nfrom tensorflow import keras\n\n# network and training\nEPOCHS = 20\nBATCH_SIZE = 256\nVERBOSE = 1\nNB_CLASSES = 10   # number of outputs = number of digits\nN_HIDDEN = 2048\nVALIDATION_SPLIT=0.2 # how much TRAIN is reserved for VALIDATION\nDROPOUT = 0.3\n\n# loading MNIST dataset\n# verify\n# the split between train and test is 60,000, and 10,000 respectly \n# one-hot is automatically applied\nmnist = keras.datasets.mnist\n(X_train, Y_train), (X_test, Y_test) = mnist.load_data()\n\n#X_train is 60000 rows of 28x28 values --> reshaped in 60000 x 784\nRESHAPED = 784\n#\nX_train = X_train.reshape(60000, RESHAPED)\nX_test = X_test.reshape(10000, RESHAPED)\nX_train = X_train.astype('float32')\nX_test = X_test.astype('float32')\n\n#normalize in [0,1]\nX_train, X_test = X_train / 255.0, X_test / 255.0\nprint(X_train.shape[0], 'train samples')\nprint(X_test.shape[0], 'test samples')\n\n#one-hot\nY_train = tf.keras.utils.to_categorical(Y_train, NB_CLASSES)\nY_test = tf.keras.utils.to_categorical(Y_test, NB_CLASSES)\n\n#build the model\nmodel = tf.keras.models.Sequential()\nmodel.add(keras.layers.Dense(N_HIDDEN,\n   \t\tinput_shape=(RESHAPED,),\n   \t\tname='dense_layer', activation='relu'))\nmodel.add(keras.layers.Dropout(DROPOUT))\nmodel.add(keras.layers.Dense(N_HIDDEN,\n   \t\tname='dense_layer_2', activation='relu'))\nmodel.add(keras.layers.Dropout(DROPOUT))\nmodel.add(keras.layers.Dense(NB_CLASSES,\n   \t\tname='dense_layer_3', activation='softmax'))\n\n# summary of the model\nmodel.summary()\n\n# compiling the model\nmodel.compile(optimizer='Adam', \n              loss='categorical_crossentropy',\n              metrics=['accuracy'])\n\n#training the moodel\nmodel.fit(X_train, Y_train,\n\t\tbatch_size=BATCH_SIZE, epochs=EPOCHS,\n\t\tverbose=VERBOSE, validation_split=VALIDATION_SPLIT)\n\n#evalute the model\ntest_loss, test_acc = model.evaluate(X_test, Y_test)\nprint('Test accuracy:', test_acc)\n\n# making prediction\npredictions = model.predict(X_test)\n"]
  }
 ],
 "metadata": {
  "kernelspec": {
   "display_name": "Python 3",
   "language": "python",
   "name": "python3"
  },
  "language_info": {
   "codemirror_mode": {
    "name": "ipython",
    "version": 3
   },
   "file_extension": ".py",
   "mimetype": "text/x-python",
   "name": "python",
   "nbconvert_exporter": "python",
   "pygments_lexer": "ipython3",
   "version": "3.4.2"
  }
 },
 "nbformat": 4,
 "nbformat_minor": 0
}