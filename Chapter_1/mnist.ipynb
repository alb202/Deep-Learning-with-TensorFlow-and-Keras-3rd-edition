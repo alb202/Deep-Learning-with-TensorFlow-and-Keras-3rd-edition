{
 "cells": [
  {
   "cell_type": "code",
   "execution_count": null,
   "metadata": {
    "collapsed": false
   },
   "outputs": [],
   "source": ["import tensorflow as tf\nimport numpy as np\nfrom tensorflow import keras\n\n# for reproducibility\nnp.random.seed(1671)\n\n# network and training\nEPOCHS = 200\nBATCH_SIZE = 128\nVERBOSE = 1\nNB_CLASSES = 10   # number of outputs = number of digits\nN_HIDDEN = 128\nVALIDATION_SPLIT=0.2 # how much TRAIN is reserved for VALIDATION\n\n# loading MNIST dataset\n# verify\n# the split between train and test is 60,000, and 10,000 respectly \n# one-hot is automatically applied\nmnist = keras.datasets.mnist\n(X_train, Y_train), (X_test, Y_test) = mnist.load_data()\nprint(X_train.shape[0], 'train samples')\nprint(X_test.shape[0], 'test samples')\n\n\n#normalize in [0,1]\nX_train, X_test = X_train / 255.0, X_test / 255.0\n#X_train is 60000 rows of 28x28 values --> reshaped in 60000 x 784\nRESHAPED = 784\n#\nX_train = X_train.reshape(60000, RESHAPED)\nX_test = X_test.reshape(10000, RESHAPED)\nY_train = Y_train.astype('float32')\nY_test = Y_test.astype('float32')\n\nmodel = tf.keras.models.Sequential()\nmodel.add(keras.layers.Dense(NB_CLASSES,\n   \t\tinput_shape=(RESHAPED,), kernel_initializer='zeros',\n   \t\tname='dense_layer', activation='softmax'))\n\n# summary of the model\nmodel.summary()\n\n# compiling the model\nmodel.compile(optimizer='SGD', \n              loss='sparse_categorical_crossentropy',\n              metrics=['accuracy'])\n\n#training the moodel\nmodel.fit(X_train, Y_train,\n\t\tbatch_size=BATCH_SIZE, epochs=EPOCHS,\n\t\tverbose=VERBOSE, validation_split=VALIDATION_SPLIT)\n\n#evalute the model\ntest_loss, test_acc = model.evaluate(X_test, Y_test)\nprint('Test accuracy:', test_acc)\n\n# making prediction\npredictions = model.predict(X_test)\n"]
  }
 ],
 "metadata": {
  "kernelspec": {
   "display_name": "Python 3",
   "language": "python",
   "name": "python3"
  },
  "language_info": {
   "codemirror_mode": {
    "name": "ipython",
    "version": 3
   },
   "file_extension": ".py",
   "mimetype": "text/x-python",
   "name": "python",
   "nbconvert_exporter": "python",
   "pygments_lexer": "ipython3",
   "version": "3.4.2"
  }
 },
 "nbformat": 4,
 "nbformat_minor": 0
}