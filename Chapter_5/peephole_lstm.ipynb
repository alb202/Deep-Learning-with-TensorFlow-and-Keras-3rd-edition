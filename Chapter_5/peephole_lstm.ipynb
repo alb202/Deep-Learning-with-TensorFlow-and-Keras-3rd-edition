{
 "cells": [
  {
   "cell_type": "code",
   "execution_count": null,
   "metadata": {
    "collapsed": false
   },
   "outputs": [],
   "source": ["import numpy as np\nimport tensorflow as tf\n\nbatch_size = 16\nnum_timesteps = 10\nembedding_dim = 128\nhidden_dim = 256\n\ninputs = tf.keras.Input(shape=(num_timesteps, embedding_dim))\n\npeephole_lstm_cell = tf.keras.experimental.PeepholeLSTMCell(hidden_dim)\nrnn_layer = tf.keras.layers.RNN(peephole_lstm_cell)\n\noutputs = rnn_layer(inputs)\n\nmodel = tf.keras.models.Model(inputs=[inputs], outputs=[outputs])\nmodel.compile(loss=\"categorical_crossentropy\", optimizer=\"adam\")\nmodel.summary()\n\ninput = np.random.uniform(size=(batch_size, num_timesteps, embedding_dim))\noutput = model.predict(input)\nprint(\"input shape:\", input.shape, \"output shape:\", output.shape)\n"]
  }
 ],
 "metadata": {
  "kernelspec": {
   "display_name": "Python 3",
   "language": "python",
   "name": "python3"
  },
  "language_info": {
   "codemirror_mode": {
    "name": "ipython",
    "version": 3
   },
   "file_extension": ".py",
   "mimetype": "text/x-python",
   "name": "python",
   "nbconvert_exporter": "python",
   "pygments_lexer": "ipython3",
   "version": "3.4.2"
  }
 },
 "nbformat": 4,
 "nbformat_minor": 0
}