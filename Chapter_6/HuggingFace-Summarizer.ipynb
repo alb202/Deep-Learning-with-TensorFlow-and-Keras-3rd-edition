{
 "cells": [
  {
   "cell_type": "code",
   "execution_count": null,
   "metadata": {
    "collapsed": false
   },
   "outputs": [],
   "source": ["from transformers import pipeline\nsummarizer = pipeline(\"summarization\", model='t5-base')\nARTICLE = \"\"\"\n Mr.\n and Mrs.\n Dursley, of number four, Privet Drive, were proud to say\n\n that they were perfectly normal, thank you very much.\n They were the last\n\n people you'd expect to be involved in anything strange or mysterious,\n\nbecause they just didn't hold with such nonsense.\n\n\n Mr.\n Dursley was the director of a firm called Grunnings, which made\n\n drills.\n He was a big, beefy man with hardly any neck, although he did\n\n have a very large mustache.\n Mrs.\n Dursley was thin and blonde and had\n\n nearly twice the usual amount of neck, which came in very useful as she\n\n spent so much of her time craning over garden fences, spying on the\n\n neighbors.\n The Dursleys had a small son called Dudley and in their\n\n opinion there was no finer boy anywhere\"\"\"\nprint(summarizer(ARTICLE, max_length=130, min_length=30, do_sample=False))"]
  }
 ],
 "metadata": {
  "kernelspec": {
   "display_name": "Python 3",
   "language": "python",
   "name": "python3"
  },
  "language_info": {
   "codemirror_mode": {
    "name": "ipython",
    "version": 3
   },
   "file_extension": ".py",
   "mimetype": "text/x-python",
   "name": "python",
   "nbconvert_exporter": "python",
   "pygments_lexer": "ipython3",
   "version": "3.4.2"
  }
 },
 "nbformat": 4,
 "nbformat_minor": 0
}