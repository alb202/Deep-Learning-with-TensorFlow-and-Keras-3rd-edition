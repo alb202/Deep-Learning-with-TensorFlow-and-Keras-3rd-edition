{
 "cells": [
  {
   "cell_type": "code",
   "execution_count": null,
   "metadata": {
    "collapsed": false
   },
   "outputs": [],
   "source": ["# Import Keras \nimport tensorflow as tf\nfrom tensorflow.keras import layers, models\n\n# IMAGE\n#\n# Define CNN for visual processing\ncnn_model = models.Sequential()\ncnn_model.add(layers.Conv2D(64, (3, 3), activation='relu', padding='same', \n\t\tinput_shape=(224, 224, 3)))\ncnn_model.add(layers.Conv2D(64, (3, 3), activation='relu'))\ncnn_model.add(layers.MaxPooling2D(2, 2))\ncnn_model.add(layers.Conv2D(128, (3, 3), activation='relu', padding='same'))\ncnn_model.add(layers.Conv2D(128, (3, 3), activation='relu'))\ncnn_model.add(layers.MaxPooling2D(2, 2))\ncnn_model.add(layers.Conv2D(256, (3, 3), activation='relu', padding='same'))\ncnn_model.add(layers.Conv2D(256, (3, 3), activation='relu'))\ncnn_model.add(layers.Conv2D(256, (3, 3), activation='relu'))\ncnn_model.add(layers.MaxPooling2D(2, 2))\ncnn_model.add(layers.Flatten())\ncnn_model.summary()\n\n#define the visual_model with proper input\nimage_input = layers.Input(shape=(224, 224, 3))\nvisual_model = cnn_model(image_input)\n#\n\n# TEXT\n#\n#define the RNN model for text processing\nquestion_input = layers.Input(shape=(100,), dtype='int32')\nemdedding = layers.Embedding(input_dim=10000, output_dim=256, \n\tinput_length=100)(question_input)\nencoded_question = layers.LSTM(256)(emdedding)\n\n\n# combine the encoded question and visual model\nmerged = layers.concatenate([encoded_question, visual_model])\n#attach a dense network at the end\noutput = layers.Dense(1000, activation='softmax')(merged)\n\n#get the combined model\nvqa_model = models.Model(inputs=[image_input, question_input], outputs=output)\nvqa_model.summary()\n"]
  }
 ],
 "metadata": {
  "kernelspec": {
   "display_name": "Python 3",
   "language": "python",
   "name": "python3"
  },
  "language_info": {
   "codemirror_mode": {
    "name": "ipython",
    "version": 3
   },
   "file_extension": ".py",
   "mimetype": "text/x-python",
   "name": "python",
   "nbconvert_exporter": "python",
   "pygments_lexer": "ipython3",
   "version": "3.4.2"
  }
 },
 "nbformat": 4,
 "nbformat_minor": 0
}