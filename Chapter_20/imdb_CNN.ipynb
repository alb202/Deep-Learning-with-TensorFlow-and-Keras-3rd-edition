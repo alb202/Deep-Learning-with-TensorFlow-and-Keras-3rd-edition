{
 "cells": [
  {
   "cell_type": "code",
   "execution_count": null,
   "metadata": {
    "collapsed": false
   },
   "outputs": [],
   "source": ["import tensorflow as tf\nfrom tensorflow.keras import datasets, layers, models, preprocessing\nimport tensorflow_datasets as tfds\n\nmax_len = 200\nn_words = 10000\ndim_embedding = 256\nEPOCHS = 20\nBATCH_SIZE =500\n\ndef load_data():\n\t#load data\n\t(X_train, y_train), (X_test, y_test) = datasets.imdb.load_data(num_words=n_words)\n\t# Pad sequences with max_len\n\tX_train = preprocessing.sequence.pad_sequences(X_train, maxlen=max_len)\n\tX_test = preprocessing.sequence.pad_sequences(X_test, maxlen=max_len)\n\treturn (X_train, y_train), (X_test, y_test)\n\ndef build_model():\n\tmodel = models.Sequential()\n\t#Input - Emedding Layer\n\t# the model will take as input an integer matrix of size (batch, input_length)\n\t# the model will output dimension (input_length, dim_embedding)\n    # the largest integer in the input should be no larger\n    # than n_words (vocabulary size).\n\tmodel.add(layers.Embedding(n_words, \n\t\tdim_embedding, input_length=max_len))\n\n\tmodel.add(layers.Dropout(0.3))\n\n\tmodel.add(layers.Conv1D(256, 3, padding='valid', \n\t\tactivation='relu'))\n\n\t#takes the maximum value of either feature vector from each of the n_words features\n\tmodel.add(layers.GlobalMaxPooling1D())\n\tmodel.add(layers.Dense(128, activation='relu'))\n\tmodel.add(layers.Dropout(0.5))\n\tmodel.add(layers.Dense(1, activation='sigmoid'))\n\n\treturn model\n\n(X_train, y_train), (X_test, y_test) = load_data()\nmodel=build_model()\nmodel.summary()\n\nmodel.compile(optimizer = \"adam\", loss = \"binary_crossentropy\",\n metrics = [\"accuracy\"]\n)\n\nscore = model.fit(X_train, y_train,\n epochs= EPOCHS,\n batch_size = BATCH_SIZE,\n validation_data = (X_test, y_test)\n)\n\nscore = model.evaluate(X_test, y_test, batch_size=BATCH_SIZE)\nprint(\"\\nTest score:\", score[0])\nprint('Test accuracy:', score[1])\n"]
  }
 ],
 "metadata": {
  "kernelspec": {
   "display_name": "Python 3",
   "language": "python",
   "name": "python3"
  },
  "language_info": {
   "codemirror_mode": {
    "name": "ipython",
    "version": 3
   },
   "file_extension": ".py",
   "mimetype": "text/x-python",
   "name": "python",
   "nbconvert_exporter": "python",
   "pygments_lexer": "ipython3",
   "version": "3.4.2"
  }
 },
 "nbformat": 4,
 "nbformat_minor": 0
}