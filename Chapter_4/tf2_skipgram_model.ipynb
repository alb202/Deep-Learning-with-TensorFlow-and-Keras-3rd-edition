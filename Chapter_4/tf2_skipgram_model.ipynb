{
 "cells": [
  {
   "cell_type": "code",
   "execution_count": null,
   "metadata": {
    "collapsed": false
   },
   "outputs": [],
   "source": ["import tensorflow as tf\n\nclass SkipgramModel(tf.keras.Model):\n    def __init__(self, vocab_sz, embed_sz, **kwargs):\n        super(SkipgramModel, self).__init__(**kwargs)\n        embedding = tf.keras.layers.Embedding(\n            input_dim=vocab_sz,\n            output_dim=embed_sz,\n            embeddings_initializer=\"glorot_uniform\",\n            input_length=1\n        )\n        self.word_model = tf.keras.Sequential([\n            embedding,\n            tf.keras.layers.Flatten()\n        ])\n        self.context_model = tf.keras.Sequential([\n            embedding,\n            tf.keras.layers.Flatten()\n        ])\n        self.merge = tf.keras.layers.Dot(axes=1)\n        self.dense = tf.keras.layers.Dense(1,\n                kernel_initializer=\"glorot_uniform\",\n                activation=\"sigmoid\"\n        )\n\n    def call(self, input):\n        word, context = input\n        word_emb = self.word_model(word)\n        context_emb = self.context_model(context)\n        x = self.merge([word_emb, context_emb])\n        x = self.dense(x)\n        return x\n\n\nVOCAB_SIZE = 5000\nEMBED_SIZE = 300\n\nmodel = SkipgramModel(VOCAB_SIZE, EMBED_SIZE)\nmodel.build(input_shape=[(None, VOCAB_SIZE), (None, VOCAB_SIZE)])\nmodel.compile(optimizer=tf.optimizers.Adam(),\n    loss=\"categorical_crossentropy\",\n    metrics=[\"accuracy\"])\n\nmodel.summary()\n\n# train the model here\n\n# retrieve embeddings from trained model\nword_model = model.layers[0]\nword_emb_layer = word_model.layers[0]\nemb_weights = None\nfor weight in word_emb_layer.weights:\n    if weight.name == \"embedding/embeddings:0\":\n        emb_weights = weight.numpy()\nprint(emb_weights, emb_weights.shape)\n\n"]
  }
 ],
 "metadata": {
  "kernelspec": {
   "display_name": "Python 3",
   "language": "python",
   "name": "python3"
  },
  "language_info": {
   "codemirror_mode": {
    "name": "ipython",
    "version": 3
   },
   "file_extension": ".py",
   "mimetype": "text/x-python",
   "name": "python",
   "nbconvert_exporter": "python",
   "pygments_lexer": "ipython3",
   "version": "3.4.2"
  }
 },
 "nbformat": 4,
 "nbformat_minor": 0
}