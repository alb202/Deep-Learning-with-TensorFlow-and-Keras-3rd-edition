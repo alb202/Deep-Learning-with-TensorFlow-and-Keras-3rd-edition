{
 "cells": [
  {
   "cell_type": "code",
   "execution_count": null,
   "metadata": {
    "collapsed": false
   },
   "outputs": [],
   "source": ["from gensim.models import KeyedVectors\n\ndef print_most_similar(word_conf_pairs, k):\n    for i, (word, conf) in enumerate(word_conf_pairs):\n        print(\"{:.3f} {:s}\".format(conf, word))\n        if i >= k-1:\n            break\n    if k < len(word_conf_pairs):\n        print(\"...\")\n\n\n\nmodel = KeyedVectors.load(\"data/text8-word2vec.bin\")\nword_vectors = model.wv\n\n# get words in the vocabulary\nwords = word_vectors.vocab.keys()\nprint([x for i, x in enumerate(words) if i < 10])\nassert(\"king\" in words)\n\n\nprint(\"# words similar to king\")\nprint_most_similar(word_vectors.most_similar(\"king\"), 5)\n\nprint(\"# vector arithmetic with words (cosine similarity)\")\nprint(\"# france + berlin - paris = ?\")\nprint_most_similar(word_vectors.most_similar(\n    positive=[\"france\", \"berlin\"], negative=[\"paris\"]), 1\n)\n\nprint(\"# vector arithmetic with words (Levy and Goldberg)\")\nprint(\"# france + berlin - paris = ?\")\nprint_most_similar(word_vectors.most_similar_cosmul(\n    positive=[\"france\", \"berlin\"], negative=[\"paris\"]), 1\n)\n\nprint(\"# find odd one out\")\nprint(\"# [hindus, parsis, singapore, christians]\")\nprint(word_vectors.doesnt_match([\"hindus\", \"parsis\", \n    \"singapore\", \"christians\"]))\n\nprint(\"# similarity between words\")\nfor word in [\"woman\", \"dog\", \"whale\", \"tree\"]:\n    print(\"similarity({:s}, {:s}) = {:.3f}\".format(\n        \"man\", word,\n        word_vectors.similarity(\"man\", word)\n    ))\n\nprint(\"# similar by word\")\nprint(print_most_similar(\n    word_vectors.similar_by_word(\"singapore\"), 5)\n)\n\nprint(\"# distance between vectors\")\nprint(\"distance(singapore, malaysia) = {:.3f}\".format(\n    word_vectors.distance(\"singapore\", \"malaysia\")\n))\n\nvec_song = word_vectors[\"song\"]\nprint(\"\\n# output vector obtained directly, shape:\", vec_song.shape)\n\nvec_song_2 = word_vectors.word_vec(\"song\", use_norm=True)\nprint(\"# output vector obtained using word_vec, shape:\", vec_song_2.shape)\n"]
  }
 ],
 "metadata": {
  "kernelspec": {
   "display_name": "Python 3",
   "language": "python",
   "name": "python3"
  },
  "language_info": {
   "codemirror_mode": {
    "name": "ipython",
    "version": 3
   },
   "file_extension": ".py",
   "mimetype": "text/x-python",
   "name": "python",
   "nbconvert_exporter": "python",
   "pygments_lexer": "ipython3",
   "version": "3.4.2"
  }
 },
 "nbformat": 4,
 "nbformat_minor": 0
}