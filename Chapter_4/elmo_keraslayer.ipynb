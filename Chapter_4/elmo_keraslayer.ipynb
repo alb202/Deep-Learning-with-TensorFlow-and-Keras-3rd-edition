{
 "cells": [
  {
   "cell_type": "code",
   "execution_count": null,
   "metadata": {
    "collapsed": false
   },
   "outputs": [],
   "source": ["import tensorflow as tf\nimport tensorflow_hub as hub\n\nembed = hub.KerasLayer(\n    \"https://tfhub.dev/google/elmo/3\",\n    input_shape=[],     # Expects a tensor of shape [batch_size] as input.\n    dtype=tf.string)    # Expects a tf.string input tensor.\nmodel = tf.keras.Sequential([embed])\nmodel.summary()\n\nembeddings = model.predict([\n   \"i i like green eggs and ham\",\n   \"would you eat them in a box\"\n])\nprint(embeddings.shape)\n"]
  }
 ],
 "metadata": {
  "kernelspec": {
   "display_name": "Python 3",
   "language": "python",
   "name": "python3"
  },
  "language_info": {
   "codemirror_mode": {
    "name": "ipython",
    "version": 3
   },
   "file_extension": ".py",
   "mimetype": "text/x-python",
   "name": "python",
   "nbconvert_exporter": "python",
   "pygments_lexer": "ipython3",
   "version": "3.4.2"
  }
 },
 "nbformat": 4,
 "nbformat_minor": 0
}