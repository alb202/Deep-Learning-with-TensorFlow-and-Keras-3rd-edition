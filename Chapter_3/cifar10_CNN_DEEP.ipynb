{
 "cells": [
  {
   "cell_type": "code",
   "execution_count": null,
   "metadata": {
    "collapsed": false
   },
   "outputs": [],
   "source": ["import tensorflow as tf\nfrom tensorflow.keras import datasets, layers, models, regularizers, optimizers\nfrom tensorflow.keras.preprocessing.image import ImageDataGenerator\nimport numpy as np\n \nEPOCHS=50\nNUM_CLASSES = 10\nBATCH_SIZE = 128\n    \n\ndef load_data():\n    (x_train, y_train), (x_test, y_test) = datasets.cifar10.load_data()\n    x_train = x_train.astype('float32')\n    x_test = x_test.astype('float32')\n \n    #normalize \n    mean = np.mean(x_train,axis=(0,1,2,3))\n    std = np.std(x_train,axis=(0,1,2,3))\n    x_train = (x_train-mean)/(std+1e-7)\n    x_test = (x_test-mean)/(std+1e-7)\n \n    y_train =  tf.keras.utils.to_categorical(y_train,NUM_CLASSES)\n    y_test =  tf.keras.utils.to_categorical(y_test,NUM_CLASSES)\n\n    return x_train, y_train, x_test, y_test\n\ndef build_model(): \n    model = models.Sequential()\n    \n    #1st blocl\n    model.add(layers.Conv2D(32, (3,3), padding='same', \n        input_shape=x_train.shape[1:], activation='relu'))\n    model.add(layers.BatchNormalization())\n    model.add(layers.Conv2D(32, (3,3), padding='same', activation='relu'))\n    model.add(layers.BatchNormalization())\n    model.add(layers.MaxPooling2D(pool_size=(2,2)))\n    model.add(layers.Dropout(0.2))\n\n    #2nd block\n    model.add(layers.Conv2D(64, (3,3), padding='same', activation='relu'))\n    model.add(layers.BatchNormalization())\n    model.add(layers.Conv2D(64, (3,3), padding='same', activation='relu'))\n    model.add(layers.BatchNormalization())\n    model.add(layers.MaxPooling2D(pool_size=(2,2)))\n    model.add(layers.Dropout(0.3))\n\n    #3d block \n    model.add(layers.Conv2D(128, (3,3), padding='same', activation='relu'))\n    model.add(layers.BatchNormalization())\n    model.add(layers.Conv2D(128, (3,3), padding='same', activation='relu'))\n    model.add(layers.BatchNormalization())\n    model.add(layers.MaxPooling2D(pool_size=(2,2)))\n    model.add(layers.Dropout(0.4))\n\n    #dense  \n    model.add(layers.Flatten())\n    model.add(layers.Dense(NUM_CLASSES, activation='softmax'))\n    return model\n\n    model.summary()\n \n\n(x_train, y_train, x_test, y_test) = load_data()\nmodel = build_model()\nmodel.compile(loss='categorical_crossentropy', \n            optimizer='RMSprop', \n            metrics=['accuracy'])\n\n#train\nbatch_size = 64\nmodel.fit(x_train, y_train, batch_size=batch_size,\n    epochs=EPOCHS, validation_data=(x_test,y_test)) \nscore = model.evaluate(x_test, y_test,\n                     batch_size=BATCH_SIZE)\nprint(\"\\nTest score:\", score[0])\nprint('Test accuracy:', score[1])\n\n\n"]
  }
 ],
 "metadata": {
  "kernelspec": {
   "display_name": "Python 3",
   "language": "python",
   "name": "python3"
  },
  "language_info": {
   "codemirror_mode": {
    "name": "ipython",
    "version": 3
   },
   "file_extension": ".py",
   "mimetype": "text/x-python",
   "name": "python",
   "nbconvert_exporter": "python",
   "pygments_lexer": "ipython3",
   "version": "3.4.2"
  }
 },
 "nbformat": 4,
 "nbformat_minor": 0
}