{
 "cells": [
  {
   "cell_type": "code",
   "execution_count": null,
   "metadata": {
    "collapsed": false
   },
   "outputs": [],
   "source": ["import numpy as np\n#import scipy.misc\n\nfrom skimage.transform import resize\nfrom imageio import imread\n\nfrom tensorflow.keras.models import model_from_json\nfrom tensorflow.keras.optimizers import SGD\n\nmodel_architecture = \"cifar10_architecture.json\"\nmodel_weights = \"cifar10_weights.h5\"\nmodel = model_from_json(open(model_architecture).read())\nmodel.load_weights(model_weights)\n\nimg_names = [\"cat-standing.jpg\", \"dog.jpg\"]\n#imgs = [np.transpose(resize(imread(img_name), (32, 32)), (2, 0, 1)).astype(\"float32\") \n#    for img_name in img_names]\nimgs = [resize(imread(img_name), (32, 32)).astype(\"float32\") for img_name in img_names]\nimgs = np.array(imgs) / 255\nprint(\"imgs.shape:\", imgs.shape)\n\noptim = SGD()\nmodel.compile(loss=\"categorical_crossentropy\", optimizer=optim, metrics=[\"accuracy\"])\n\npredictions = model.predict_classes(imgs)\nprint(\"predictions:\", predictions)"]
  }
 ],
 "metadata": {
  "kernelspec": {
   "display_name": "Python 3",
   "language": "python",
   "name": "python3"
  },
  "language_info": {
   "codemirror_mode": {
    "name": "ipython",
    "version": 3
   },
   "file_extension": ".py",
   "mimetype": "text/x-python",
   "name": "python",
   "nbconvert_exporter": "python",
   "pygments_lexer": "ipython3",
   "version": "3.4.2"
  }
 },
 "nbformat": 4,
 "nbformat_minor": 0
}