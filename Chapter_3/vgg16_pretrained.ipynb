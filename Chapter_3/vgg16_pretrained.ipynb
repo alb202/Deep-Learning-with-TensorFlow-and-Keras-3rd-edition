{
 "cells": [
  {
   "cell_type": "code",
   "execution_count": null,
   "metadata": {
    "collapsed": false
   },
   "outputs": [],
   "source": ["import tensorflow as tf\nfrom tensorflow.keras.applications.vgg16 import VGG16\nimport matplotlib.pyplot as plt\nimport numpy as np\nimport cv2\n\n# prebuild model with pre-trained weights on imagenet\nmodel = VGG16(weights='imagenet', include_top=True)\nmodel.compile(optimizer='sgd', loss='categorical_crossentropy')\n\n# resize into VGG16 trained images' format\nim = cv2.resize(cv2.imread('steam-locomotive.jpg'), (224, 224))\nim = np.expand_dims(im, axis=0)\nim.astype(np.float32)\n\n# predict\nout = model.predict(im)\nindex = np.argmax(out)\nprint(index)\n\n#plt.plot(out.ravel())\n#plt.show()\n"]
  }
 ],
 "metadata": {
  "kernelspec": {
   "display_name": "Python 3",
   "language": "python",
   "name": "python3"
  },
  "language_info": {
   "codemirror_mode": {
    "name": "ipython",
    "version": 3
   },
   "file_extension": ".py",
   "mimetype": "text/x-python",
   "name": "python",
   "nbconvert_exporter": "python",
   "pygments_lexer": "ipython3",
   "version": "3.4.2"
  }
 },
 "nbformat": 4,
 "nbformat_minor": 0
}