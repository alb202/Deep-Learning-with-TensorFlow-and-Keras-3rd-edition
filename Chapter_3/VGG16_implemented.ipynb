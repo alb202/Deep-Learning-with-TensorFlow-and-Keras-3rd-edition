{
 "cells": [
  {
   "cell_type": "code",
   "execution_count": null,
   "metadata": {
    "collapsed": false
   },
   "outputs": [],
   "source": ["import tensorflow as tf\nfrom tensorflow.keras import layers, models\nimport cv2, numpy as np\nimport os\n\n# define a VGG16 network\n\ndef VGG_16(weights_path=None):\n    model = models.Sequential()\n    model.add(layers.ZeroPadding2D((1,1),input_shape=(224,224, 3)))\n    model.add(layers.Convolution2D(64, (3, 3), activation='relu'))\n    model.add(layers.ZeroPadding2D((1,1)))\n    model.add(layers.Convolution2D(64, (3, 3), activation='relu'))\n    model.add(layers.MaxPooling2D((2,2), strides=(2,2)))\n\n    model.add(layers.ZeroPadding2D((1,1)))\n    model.add(layers.Convolution2D(128, (3, 3), activation='relu'))\n    model.add(layers.ZeroPadding2D((1,1)))\n    model.add(layers.Convolution2D(128, (3, 3), activation='relu'))\n    model.add(layers.MaxPooling2D((2,2), strides=(2,2)))\n\n    model.add(layers.ZeroPadding2D((1,1)))\n    model.add(layers.Convolution2D(256, (3, 3), activation='relu'))\n    model.add(layers.ZeroPadding2D((1,1)))\n    model.add(layers.Convolution2D(256, (3, 3), activation='relu'))\n    model.add(layers.ZeroPadding2D((1,1)))\n    model.add(layers.Convolution2D(256, (3, 3), activation='relu'))\n    model.add(layers.MaxPooling2D((2,2), strides=(2,2)))\n\n    model.add(layers.ZeroPadding2D((1,1)))\n    model.add(layers.Convolution2D(512, (3, 3), activation='relu'))\n    model.add(layers.ZeroPadding2D((1,1)))\n    model.add(layers.Convolution2D(512, (3, 3), activation='relu'))\n    model.add(layers.ZeroPadding2D((1,1)))\n    model.add(layers.Convolution2D(512, (3, 3), activation='relu'))\n    model.add(layers.MaxPooling2D((2,2), strides=(2,2)))\n\n    model.add(layers.ZeroPadding2D((1,1)))\n    model.add(layers.Convolution2D(512, (3, 3), activation='relu'))\n    model.add(layers.ZeroPadding2D((1,1)))\n    model.add(layers.Convolution2D(512, (3, 3), activation='relu'))\n    model.add(layers.ZeroPadding2D((1,1)))\n    model.add(layers.Convolution2D(512, (3, 3), activation='relu'))\n    model.add(layers.MaxPooling2D((2,2), strides=(2,2)))\n\n    model.add(layers.Flatten())\n\n    #top layer of the VGG net\n    model.add(layers.Dense(4096, activation='relu'))\n    model.add(layers.Dropout(0.5))\n    model.add(layers.Dense(4096, activation='relu'))\n    model.add(layers.Dropout(0.5))\n    model.add(layers.Dense(1000, activation='softmax'))\n\n    if weights_path:\n        model.load_weights(weights_path)\n\n    return model\n\n\nim = cv2.resize(cv2.imread('cat.jpg'), (224, 224)).astype(np.float32)\n#im = im.transpose((2,0,1))\nim = np.expand_dims(im, axis=0)\n\n# Test pretrained model\npath_file = os.path.join(os.path.expanduser(\"~\"), '.keras/models/vgg16_weights_tf_dim_ordering_tf_kernels.h5')\nmodel = VGG_16(path_file)\nmodel.summary()\nmodel.compile(optimizer='sgd', loss='categorical_crossentropy')\nout = model.predict(im)\nprint(np.argmax(out))\n  \n"]
  }
 ],
 "metadata": {
  "kernelspec": {
   "display_name": "Python 3",
   "language": "python",
   "name": "python3"
  },
  "language_info": {
   "codemirror_mode": {
    "name": "ipython",
    "version": 3
   },
   "file_extension": ".py",
   "mimetype": "text/x-python",
   "name": "python",
   "nbconvert_exporter": "python",
   "pygments_lexer": "ipython3",
   "version": "3.4.2"
  }
 },
 "nbformat": 4,
 "nbformat_minor": 0
}