{
 "cells": [
  {
   "cell_type": "code",
   "execution_count": null,
   "metadata": {
    "collapsed": false
   },
   "outputs": [],
   "source": ["import tensorflow as tf\nfrom tensorflow.keras.applications.vgg16 import VGG16 \nfrom tensorflow.keras import models\nfrom tensorflow.keras.preprocessing import image\nfrom tensorflow.keras.applications.vgg16 import preprocess_input\nimport numpy as np\nimport cv2\n\n# prebuild model with pre-trained weights on imagenet\nbase_model = VGG16(weights='imagenet', include_top=True)\nprint (base_model)\nfor i, layer in enumerate(base_model.layers):\n\tprint (i, layer.name, layer.output_shape)\n\n# extract features from block4_pool block\nmodel = models.Model(inputs=base_model.input, \n\toutputs=base_model.get_layer('block4_pool').output)\n\nimg_path = 'cat.jpg'\nimg = image.load_img(img_path, target_size=(224, 224))\nx = image.img_to_array(img)\nx = np.expand_dims(x, axis=0)\nx = preprocess_input(x)\n\n# get the features from this block\nfeatures = model.predict(x)\nprint(features)\n\n"]
  }
 ],
 "metadata": {
  "kernelspec": {
   "display_name": "Python 3",
   "language": "python",
   "name": "python3"
  },
  "language_info": {
   "codemirror_mode": {
    "name": "ipython",
    "version": 3
   },
   "file_extension": ".py",
   "mimetype": "text/x-python",
   "name": "python",
   "nbconvert_exporter": "python",
   "pygments_lexer": "ipython3",
   "version": "3.4.2"
  }
 },
 "nbformat": 4,
 "nbformat_minor": 0
}