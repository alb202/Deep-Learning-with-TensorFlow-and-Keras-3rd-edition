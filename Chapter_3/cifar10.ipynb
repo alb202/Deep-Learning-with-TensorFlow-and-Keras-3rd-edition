{
 "cells": [
  {
   "cell_type": "code",
   "execution_count": null,
   "metadata": {
    "collapsed": false
   },
   "outputs": [],
   "source": ["import tensorflow as tf\nfrom tensorflow.keras import datasets, layers, models, optimizers\n\n# CIFAR_10 is a set of 60K images 32x32 pixels on 3 channels\nIMG_CHANNELS = 3\nIMG_ROWS = 32\nIMG_COLS = 32\n\n#constant\nBATCH_SIZE = 128\nEPOCHS = 20\nCLASSES = 10\nVERBOSE = 1\nVALIDATION_SPLIT = 0.2\nOPTIM = tf.keras.optimizers.RMSprop()\n\n#define the convnet \ndef build(input_shape, classes):\n\tmodel = models.Sequential() \n\tmodel.add(layers.Convolution2D(32, (3, 3), activation='relu',\n                        input_shape=input_shape))\n\tmodel.add(layers.MaxPooling2D(pool_size=(2, 2)))\n\tmodel.add(layers.Dropout(0.25)) \n\n\tmodel.add(layers.Flatten())\n\tmodel.add(layers.Dense(512, activation='relu'))\n\tmodel.add(layers.Dropout(0.5))\n\tmodel.add(layers.Dense(classes, activation='softmax'))\n\treturn model\n\n# data: shuffled and split between train and test sets\n(X_train, y_train), (X_test, y_test) = datasets.cifar10.load_data()\n# normalize\nX_train, X_test = X_train / 255.0, X_test / 255.0\n# convert to categorical\n# convert class vectors to binary class matrices\ny_train = tf.keras.utils.to_categorical(y_train, CLASSES)\ny_test = tf.keras.utils.to_categorical(y_test, CLASSES)\n\nmodel=build((IMG_ROWS, IMG_COLS, IMG_CHANNELS), CLASSES)\nmodel.summary()\n\n# use TensorBoard, princess Aurora!\ncallbacks = [\n  # Write TensorBoard logs to `./logs` directory\n  tf.keras.callbacks.TensorBoard(log_dir='./logs')\n]\n\n# train\nmodel.compile(loss='categorical_crossentropy', optimizer=OPTIM,\n\tmetrics=['accuracy'])\n \nmodel.fit(X_train, y_train, batch_size=BATCH_SIZE,\n\tepochs=EPOCHS, validation_split=VALIDATION_SPLIT, \n\tverbose=VERBOSE, callbacks=callbacks) \nscore = model.evaluate(X_test, y_test,\n                     batch_size=BATCH_SIZE, verbose=VERBOSE)\nprint(\"\\nTest score:\", score[0])\nprint('Test accuracy:', score[1])\n\n\n"]
  }
 ],
 "metadata": {
  "kernelspec": {
   "display_name": "Python 3",
   "language": "python",
   "name": "python3"
  },
  "language_info": {
   "codemirror_mode": {
    "name": "ipython",
    "version": 3
   },
   "file_extension": ".py",
   "mimetype": "text/x-python",
   "name": "python",
   "nbconvert_exporter": "python",
   "pygments_lexer": "ipython3",
   "version": "3.4.2"
  }
 },
 "nbformat": 4,
 "nbformat_minor": 0
}