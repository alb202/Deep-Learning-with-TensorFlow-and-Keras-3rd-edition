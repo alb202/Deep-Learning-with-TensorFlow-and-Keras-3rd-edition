{
 "cells": [
  {
   "cell_type": "code",
   "execution_count": null,
   "metadata": {
    "collapsed": false
   },
   "outputs": [],
   "source": ["import tensorflow as tf\nfrom tensorflow.keras import datasets, layers, models, optimizers\n\n\n#define the convnet \nclass LeNet:\n\t@staticmethod\n\tdef build(input_shape, classes):\n\t\tmodel = models.Sequential()\n\t\t# CONV => RELU => POOL\n\t\tmodel.add(layers.Convolution2D(20, (5, 5), activation='relu',\n\t\t\tinput_shape=input_shape))\n\t\tmodel.add(layers.MaxPooling2D(pool_size=(2, 2), strides=(2, 2)))\n\t\t# CONV => RELU => POOL\n\t\tmodel.add(layers.Convolution2D(50, (5, 5), activation='relu'))\n\t\tmodel.add(layers.MaxPooling2D(pool_size=(2, 2), strides=(2, 2)))\n\t\t# Flatten => RELU layers\n\t\tmodel.add(layers.Flatten())\n\t\tmodel.add(layers.Dense(500, activation='relu'))\n\t\t# a softmax classifier\n\t\tmodel.add(layers.Dense(classes, activation=\"softmax\"))\n\t\treturn model\n\n\n\n# network and training\nEPOCHS = 5\nBATCH_SIZE = 128\nVERBOSE = 1\nOPTIMIZER = tf.keras.optimizers.Adam()\nVALIDATION_SPLIT=0.90\n\nIMG_ROWS, IMG_COLS = 28, 28 # input image dimensions\nINPUT_SHAPE = (IMG_ROWS, IMG_COLS, 1)\nNB_CLASSES = 10  # number of outputs = number of digits\n\n# data: shuffled and split between train and test sets\n(X_train, y_train), (X_test, y_test) = datasets.mnist.load_data()\n\n# reshape\nX_train = X_train.reshape((60000, 28, 28, 1))\nX_test = X_test.reshape((10000, 28, 28, 1))\n\n# normalize\nX_train, X_test = X_train / 255.0, X_test / 255.0\n\n# cast\nX_train = X_train.astype('float32')\nX_test = X_test.astype('float32')\n\nprint(X_train.shape[0], 'train samples')\nprint(X_test.shape[0], 'test samples')\n\n# convert class vectors to binary class matrices\ny_train = tf.keras.utils.to_categorical(y_train, NB_CLASSES)\ny_test = tf.keras.utils.to_categorical(y_test, NB_CLASSES)\n\n# initialize the optimizer and model\nmodel = LeNet.build(input_shape=INPUT_SHAPE, classes=NB_CLASSES)\nmodel.compile(loss=\"categorical_crossentropy\", optimizer=OPTIMIZER,\n\tmetrics=[\"accuracy\"])\nmodel.summary()\n\n# use TensorBoard, princess Aurora!\ncallbacks = [\n  # Write TensorBoard logs to `./logs` directory\n  tf.keras.callbacks.TensorBoard(log_dir='./logs')\n]\n\n# fit \nhistory = model.fit(X_train, y_train, \n\t\tbatch_size=BATCH_SIZE, epochs=EPOCHS, \n\t\tverbose=VERBOSE, validation_split=VALIDATION_SPLIT,\n\t\tcallbacks=callbacks)\n\nscore = model.evaluate(X_test, y_test, verbose=VERBOSE)\nprint(\"\\nTest score:\", score[0])\nprint('Test accuracy:', score[1])\n\n\n"]
  }
 ],
 "metadata": {
  "kernelspec": {
   "display_name": "Python 3",
   "language": "python",
   "name": "python3"
  },
  "language_info": {
   "codemirror_mode": {
    "name": "ipython",
    "version": 3
   },
   "file_extension": ".py",
   "mimetype": "text/x-python",
   "name": "python",
   "nbconvert_exporter": "python",
   "pygments_lexer": "ipython3",
   "version": "3.4.2"
  }
 },
 "nbformat": 4,
 "nbformat_minor": 0
}