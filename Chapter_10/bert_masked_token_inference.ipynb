{
 "cells": [
  {
   "cell_type": "code",
   "execution_count": null,
   "metadata": {
    "collapsed": false
   },
   "outputs": [],
   "source": ["from transformers import BertTokenizer, TFBertForMaskedLM\nimport tensorflow as tf\n\n\ntokenizer = BertTokenizer.from_pretrained(\"bert-base-cased\")\nmodel = TFBertForMaskedLM.from_pretrained(\"bert-base-cased\")\n\ninputs = tokenizer(\"The capital of France is [MASK].\", return_tensors=\"tf\")\nlogits = model(**inputs).logits\n\n# retrieve index of [MASK]\nmask_token_index = tf.where(inputs.input_ids == tokenizer.mask_token_id)[0][1]\n\n# predicted_token_id = tf.math.argmax(logits[0, mask_token_index], axis=-1)\npredicted_token_id = tf.math.argmax(logits[:, mask_token_index], axis=-1)\ntokenizer.convert_ids_to_tokens(predicted_token_id)[0]\n\n"]
  }
 ],
 "metadata": {
  "kernelspec": {
   "display_name": "Python 3",
   "language": "python",
   "name": "python3"
  },
  "language_info": {
   "codemirror_mode": {
    "name": "ipython",
    "version": 3
   },
   "file_extension": ".py",
   "mimetype": "text/x-python",
   "name": "python",
   "nbconvert_exporter": "python",
   "pygments_lexer": "ipython3",
   "version": "3.4.2"
  }
 },
 "nbformat": 4,
 "nbformat_minor": 0
}